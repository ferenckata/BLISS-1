{
 "cells": [
  {
   "cell_type": "markdown",
   "metadata": {},
   "source": [
    "We use DBSCAN to cluster cuts. DBSCAN cluster denser regions and detects outliers as noise."
   ]
  },
  {
   "cell_type": "code",
   "execution_count": 2,
   "metadata": {
    "collapsed": false
   },
   "outputs": [
    {
     "name": "stdout",
     "output_type": "stream",
     "text": [
      "Automatically created module for IPython interactive environment\n"
     ]
    }
   ],
   "source": [
    "print(__doc__)\n",
    "\n",
    "import numpy as np\n",
    "\n",
    "from sklearn.cluster import DBSCAN\n",
    "from sklearn import metrics\n",
    "from sklearn.datasets.samples_generator import make_blobs\n",
    "from sklearn.preprocessing import StandardScaler\n",
    "\n",
    "##############################################################################\n",
    "# Generate sample data\n",
    "X1 = np.loadtxt('rm15_points.txt')\n",
    "X1 = np.reshape(X1,(len(X1),1))\n",
    "X2 = np.loadtxt('rm33_points.txt')\n",
    "X2 = np.reshape(X2,(len(X2),1))\n",
    "X3 = np.loadtxt('rm34_points.txt')\n",
    "X3 = np.reshape(X3,(len(X3),1))\n",
    "X4 = np.loadtxt('rm35_points.txt')\n",
    "X4 = np.reshape(X4,(len(X4),1))"
   ]
  },
  {
   "cell_type": "markdown",
   "metadata": {},
   "source": [
    "It is important that X is an array of shape (#samples>=2, #features>=1)"
   ]
  },
  {
   "cell_type": "code",
   "execution_count": 78,
   "metadata": {
    "collapsed": false
   },
   "outputs": [
    {
     "name": "stdout",
     "output_type": "stream",
     "text": [
      "Estimated number of clusters in rm15: 4\n",
      "Estimated number of clusters in rm33: 1\n",
      "Estimated number of clusters in rm34: 1\n",
      "Estimated number of clusters in rm35: 1\n"
     ]
    }
   ],
   "source": [
    "##############################################################################\n",
    "# Compute DBSCAN\n",
    "epsval = 5000\n",
    "samples = 9\n",
    "\n",
    "X1db = DBSCAN(eps=epsval, min_samples=samples).fit(X1)\n",
    "X1core_samples_mask = np.zeros_like(X1db.labels_, dtype=bool)\n",
    "X1core_samples_mask[X1db.core_sample_indices_] = True\n",
    "X1labels = X1db.labels_\n",
    "\n",
    "X2db = DBSCAN(eps=epsval, min_samples=samples).fit(X2)\n",
    "X2core_samples_mask = np.zeros_like(X2db.labels_, dtype=bool)\n",
    "X2core_samples_mask[X2db.core_sample_indices_] = True\n",
    "X2labels = X2db.labels_\n",
    "\n",
    "X3db = DBSCAN(eps=epsval, min_samples=samples).fit(X3)\n",
    "X3core_samples_mask = np.zeros_like(X3db.labels_, dtype=bool)\n",
    "X3core_samples_mask[X3db.core_sample_indices_] = True\n",
    "X3labels = X3db.labels_\n",
    "\n",
    "X4db = DBSCAN(eps=epsval, min_samples=samples).fit(X4)\n",
    "X4core_samples_mask = np.zeros_like(X4db.labels_, dtype=bool)\n",
    "X4core_samples_mask[X4db.core_sample_indices_] = True\n",
    "X4labels = X4db.labels_\n",
    "\n",
    "# Number of clusters in labels, ignoring noise if present.\n",
    "X1n_clusters_ = len(set(X1labels)) - (1 if -1 in X1labels else 0)\n",
    "X2n_clusters_ = len(set(X2labels)) - (1 if -1 in X2labels else 0)\n",
    "X3n_clusters_ = len(set(X3labels)) - (1 if -1 in X3labels else 0)\n",
    "X4n_clusters_ = len(set(X4labels)) - (1 if -1 in X4labels else 0)\n",
    "\n",
    "print('Estimated number of clusters in rm15: %d' % X1n_clusters_)\n",
    "#print sum(X1labels == -1)\n",
    "\n",
    "print('Estimated number of clusters in rm33: %d' % X2n_clusters_)\n",
    "#print sum(X2labels == -1)\n",
    "\n",
    "print('Estimated number of clusters in rm34: %d' % X3n_clusters_)\n",
    "#print sum(X3labels == -1)\n",
    "\n",
    "print('Estimated number of clusters in rm35: %d' % X4n_clusters_)\n",
    "#print sum(X4labels == -1)"
   ]
  },
  {
   "cell_type": "markdown",
   "metadata": {},
   "source": [
    "With parameters (5000,9) it is possible to identify a cluster occurring in all of the dataset rm15-35."
   ]
  },
  {
   "cell_type": "code",
   "execution_count": 87,
   "metadata": {
    "collapsed": false
   },
   "outputs": [
    {
     "name": "stdout",
     "output_type": "stream",
     "text": [
      "121484055 121485386 33\n"
     ]
    }
   ],
   "source": [
    "cluster_label = 2\n",
    "datalabel = X1labels\n",
    "dataset = X1\n",
    "array = dataset[np.where(datalabel == cluster_label)]\n",
    "locations = map(lambda x: map(int, x), array)\n",
    "locations = list(sum(locations, []))\n",
    "print min(locations), max(locations), len(locations)"
   ]
  },
  {
   "cell_type": "code",
   "execution_count": 89,
   "metadata": {
    "collapsed": false
   },
   "outputs": [
    {
     "name": "stdout",
     "output_type": "stream",
     "text": [
      "121484825 121485388 9\n"
     ]
    }
   ],
   "source": [
    "cluster_label = 0\n",
    "datalabel = X2labels\n",
    "dataset = X2\n",
    "array = dataset[np.where(datalabel == cluster_label)]\n",
    "locations = map(lambda x: map(int, x), array)\n",
    "locations = list(sum(locations, []))\n",
    "print min(locations), max(locations), len(locations)"
   ]
  },
  {
   "cell_type": "code",
   "execution_count": 90,
   "metadata": {
    "collapsed": false
   },
   "outputs": [
    {
     "name": "stdout",
     "output_type": "stream",
     "text": [
      "121484153 121485393 29\n"
     ]
    }
   ],
   "source": [
    "cluster_label = 0\n",
    "datalabel = X3labels\n",
    "dataset = X3\n",
    "array = dataset[np.where(datalabel == cluster_label)]\n",
    "locations = map(lambda x: map(int, x), array)\n",
    "locations = list(sum(locations, []))\n",
    "print min(locations), max(locations), len(locations)"
   ]
  },
  {
   "cell_type": "code",
   "execution_count": 91,
   "metadata": {
    "collapsed": false
   },
   "outputs": [
    {
     "name": "stdout",
     "output_type": "stream",
     "text": [
      "121484141 121485400 55\n"
     ]
    }
   ],
   "source": [
    "cluster_label = 0\n",
    "datalabel = X4labels\n",
    "dataset = X4\n",
    "array = dataset[np.where(datalabel == cluster_label)]\n",
    "locations = map(lambda x: map(int, x), array)\n",
    "locations = list(sum(locations, []))\n",
    "print min(locations), max(locations), len(locations)"
   ]
  },
  {
   "cell_type": "code",
   "execution_count": null,
   "metadata": {
    "collapsed": true
   },
   "outputs": [],
   "source": []
  }
 ],
 "metadata": {
  "kernelspec": {
   "display_name": "Python 2",
   "language": "python",
   "name": "python2"
  },
  "language_info": {
   "codemirror_mode": {
    "name": "ipython",
    "version": 2
   },
   "file_extension": ".py",
   "mimetype": "text/x-python",
   "name": "python",
   "nbconvert_exporter": "python",
   "pygments_lexer": "ipython2",
   "version": "2.7.10"
  }
 },
 "nbformat": 4,
 "nbformat_minor": 0
}
