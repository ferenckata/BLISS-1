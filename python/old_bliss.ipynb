{
 "cells": [
  {
   "cell_type": "markdown",
   "metadata": {},
   "source": [
    "First run:\n",
    "~/Work/pipelines/aux.scripts/coverage.sh -resolution -experiment/outdata/q10_chr-loc-strand-umi-pcr -hg19 -sliding\n"
   ]
  },
  {
   "cell_type": "code",
   "execution_count": 5,
   "metadata": {
    "collapsed": false
   },
   "outputs": [],
   "source": [
    "import os\n",
    "import numpy as np\n",
    "from scipy import *\n",
    "from scipy.sparse import *\n",
    "from scipy.spatial import distance\n",
    "from scipy.stats import entropy\n",
    "import pandas as pd\n",
    "from fancyimpute import BiScaler, KNN, NuclearNormMinimization, SoftImpute\n",
    "import matplotlib.pyplot as plt\n",
    "import seaborn as sns\n",
    "\n",
    "def sparseload(file,resolution):\n",
    "    f = open(file)\n",
    "    h = f.readline()\n",
    "    col = []\n",
    "    data = []\n",
    "    chrom = []\n",
    "    for l in f:\n",
    "        l = l.strip()\n",
    "        chrom.append(l.split('\\t')[0])\n",
    "        col.append(int(l.split('\\t')[2])/resolution)\n",
    "        data.append(int(float(l.split('\\t')[3])))\n",
    "    col = np.array(col)\n",
    "    data = np.array(data)\n",
    "    chrom = np.array(chrom)\n",
    "    f.close()\n",
    "    return chrom,col,data\n",
    "\n",
    "def structure_genome(resolution,f):\n",
    "    base = 0\n",
    "    positionlist = []\n",
    "    chromlist = []\n",
    "    border = []\n",
    "    for l in f.readlines():\n",
    "        l = l.strip()\n",
    "        chrom = l.split('\\t')[0]\n",
    "        size = l.split('\\t')[1]\n",
    "        end = base + int(size)/resolution\n",
    "        border.append(end)\n",
    "        array = arange(base, end)\n",
    "        positionlist.extend(array)\n",
    "        chromlist.extend([chrom]*len(array))\n",
    "        base = base + int(size)/resolution\n",
    "    f.close()\n",
    "    return positionlist,chromlist,border\n",
    "\n",
    "def load_data(experiment,positionlist,resolution,sliding):\n",
    "#     filename = '/home/garner1/Work/dataset/'+str(exp)+'/outdata/q10_chr-loc-strand-umi-pcr-coverage-'+str(resolution)+'_'+str(sliding)+'.bed'\n",
    "    filename = '/home/garner1/Work/dataset/'+str(exp)+'/outdata/q10_chr-loc-strand-umi-pcr-coverage-'+str(resolution)+'_'+'.bed'\n",
    "    chrom, col, data = sparseload(filename,resolution)\n",
    "    return data\n",
    "\n",
    "resolution = 1*1000000\n",
    "sliding = 500*1000\n",
    "RC_threshold = 0\n",
    "f = open('/home/garner1/Work/pipelines/data/hg19-chr-sizes.txt')\n",
    "# f = open('/home/garner1/Work/pipelines/data/mm9-chr-sizes.txt')\n",
    "\n",
    "positionlist,chromlist,border = structure_genome(resolution,f)\n",
    "exp = 'rm53NT'\n",
    "X1 = load_data(exp,positionlist,resolution,sliding)\n",
    "exp = 'rm53T'\n",
    "X2 = load_data(exp,positionlist,resolution,sliding)\n",
    "X1_df = pd.Series(X1)\n",
    "X2_df = pd.Series(X2)\n",
    "df = pd.concat([X1_df,X2_df],axis=1)\n",
    "df = df[np.abs(df-df.mean())<=(10*df.std())]\n",
    "df = df / df.sum(axis=0) \n",
    "data = np.asarray(df)"
   ]
  },
  {
   "cell_type": "code",
   "execution_count": 6,
   "metadata": {
    "collapsed": false
   },
   "outputs": [],
   "source": [
    "import linecache\n",
    "filename = '/home/garner1/Work/dataset/rm53T/outdata/q10_chr-loc-strand-umi-pcr-coverage-'+str(resolution)+'_'+str(sliding)+'.bed'\n",
    "with open(\"enrichedRM53T_wUMI.bed\", \"a\") as myfile:\n",
    "    foldChange = data[:,1]/data[:,0]\n",
    "    for line in np.where(np.logical_and(foldChange>=5, foldChange<=1000))[0]:\n",
    "        myfile.write(''+ linecache.getline(filename,line) + '')\n",
    "with open(\"enrichedRM53NT_wUMI.bed\", \"a\") as myfile:\n",
    "    foldChange = data[:,0]/data[:,1]\n",
    "    for line in np.where(np.logical_and(foldChange>=5, foldChange<=1000))[0]:\n",
    "        myfile.write(''+ linecache.getline(filename,line) + '')\n",
    "with open(\"non_enrichedRM53T_wUMI.bed\", \"a\") as myfile:\n",
    "    foldChange = data[:,1]/data[:,0]\n",
    "    for line in np.where(np.logical_and(foldChange>=0, foldChange<5))[0]:\n",
    "        myfile.write(''+ linecache.getline(filename,line) + '')\n",
    "with open(\"non_enrichedRM53NT_wUMI.bed\", \"a\") as myfile:\n",
    "    foldChange = data[:,0]/data[:,1]\n",
    "    for line in np.where(np.logical_and(foldChange>=0, foldChange<5))[0]:\n",
    "        myfile.write(''+ linecache.getline(filename,line) + '')\n"
   ]
  },
  {
   "cell_type": "code",
   "execution_count": 27,
   "metadata": {
    "collapsed": false
   },
   "outputs": [],
   "source": [
    "# plt.figure(1)\n",
    "# plt.plot(data[:,1]/data[:,0],'o')\n",
    "# # axes = plt.gca()\n",
    "# # axes.set_ylim([-10,1])\n",
    "# plt.title('RM53 T vs NT fold changes at '+str(resolution)+'_slide'+str(sliding))\n",
    "# # plt.savefig('RM53_ToverNT_FC_res'+str(resolution)+'_slide'+str(sliding)+'.png')\n",
    "\n",
    "# plt.figure(2)\n",
    "# plt.plot(data[:,0]/data[:,1],'o')\n",
    "# # axes = plt.gca()\n",
    "# # axes.set_ylim([-10,1])\n",
    "# plt.title('RM53 NT vs T fold changes at '+str(resolution)+'_slide'+str(sliding))\n",
    "# # plt.savefig('RM53_NToverT_FC_res'+str(resolution)+'_slide'+str(sliding)+'.png')\n",
    "\n",
    "fig = plt.figure()\n",
    "ax1 = fig.add_subplot(111)\n",
    "\n",
    "ax1.plot(data[:,0]/data[:,1], c='r', label='NT/T')\n",
    "ax1.plot(data[:,1]/data[:,0], c='b', label='T/NT')\n",
    "plt.legend(loc='upper left');\n",
    "\n",
    "plt.show()"
   ]
  },
  {
   "cell_type": "code",
   "execution_count": 244,
   "metadata": {
    "collapsed": false
   },
   "outputs": [],
   "source": [
    "plt.figure(1)\n",
    "\n",
    "g1 = sns.heatmap(data, square=False, annot=False, cmap=\"Blues\", cbar=True)\n",
    "plt.title('RM53T vs RM53NT DSB probability heatmap at '+str(resolution))\n",
    "g1.set(yticklabels=[])\n",
    "\n",
    "plt.show()"
   ]
  }
 ],
 "metadata": {
  "kernelspec": {
   "display_name": "Python 2",
   "language": "python",
   "name": "python2"
  },
  "language_info": {
   "codemirror_mode": {
    "name": "ipython",
    "version": 2
   },
   "file_extension": ".py",
   "mimetype": "text/x-python",
   "name": "python",
   "nbconvert_exporter": "python",
   "pygments_lexer": "ipython2",
   "version": "2.7.11"
  }
 },
 "nbformat": 4,
 "nbformat_minor": 0
}
