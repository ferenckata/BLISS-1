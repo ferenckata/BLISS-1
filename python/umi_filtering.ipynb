{
 "cells": [
  {
   "cell_type": "markdown",
   "metadata": {},
   "source": [
    "First execute the oneliner:\n",
    "\n",
    "cat ~/Work/dataset/rm15/outdata/chr-loc-strand-umi_q5 | cut -f-5 | uniq -c | awk '{print $2,$3,$4,$5,$6,$1}' |tr \" \" \",\"> chr-loc-loc-strand-umi-count"
   ]
  },
  {
   "cell_type": "code",
   "execution_count": 243,
   "metadata": {
    "collapsed": false
   },
   "outputs": [],
   "source": [
    "import csv\n",
    "import numpy as np\n",
    "filename = 'chr-loc-loc-strand-umi-count'\n",
    "\n",
    "with open(filename, 'rb') as f:\n",
    "    reader = csv.reader(f)\n",
    "    data = list(reader)"
   ]
  },
  {
   "cell_type": "markdown",
   "metadata": {},
   "source": [
    "First group proximal reads which have the same UMI, by adding the sparse ones to the most frequent ones."
   ]
  },
  {
   "cell_type": "code",
   "execution_count": 244,
   "metadata": {
    "collapsed": false
   },
   "outputs": [],
   "source": [
    "row_old = data[0]\n",
    "data_aggegated_by_umi_identity = [row_old]\n",
    "for row in data[1:]:\n",
    "    if (row_old[0]==row[0] and row_old[3]==row[3] and row_old[4]==row[4]):\n",
    "        if int(row[5]) >= int(row_old[5]):\n",
    "            row[5] = str(int(row[5])+int(row_old[5]))\n",
    "        else:\n",
    "            row[5] = str(int(row[5])+int(row_old[5]))\n",
    "            row[1:3] = row_old[1:3]\n",
    "        del data_aggegated_by_umi_identity[-1]\n",
    "    data_aggegated_by_umi_identity.append(row)\n",
    "    row_old = row"
   ]
  },
  {
   "cell_type": "markdown",
   "metadata": {},
   "source": [
    "Then group consecutive reads by proximity in location-space (max 30 bp apart) and by similarity in umi space, i.e. if there are no more that 2 mismatches."
   ]
  },
  {
   "cell_type": "code",
   "execution_count": 245,
   "metadata": {
    "collapsed": false
   },
   "outputs": [],
   "source": [
    "row_old = data_aggegated_by_umi_identity[0]\n",
    "data_aggegated_by_umi_similarity = [row_old]\n",
    "space_gap = 30 \n",
    "mm_gap = 2\n",
    "for row in data_aggegated_by_umi_identity[1:]:\n",
    "    s1 = row_old[4]\n",
    "    s2 = row[4]\n",
    "    numb_mismatches = sum(c1!=c2 for c1,c2 in zip(s1,s2))\n",
    "    dist = abs(int(row[1])-int(row_old[1]))\n",
    "    if (row_old[0]==row[0] and dist<=space_gap and row_old[3]==row[3] and numb_mismatches<=mm_gap):\n",
    "        if int(row[5]) >= int(row_old[5]):\n",
    "            row[5] = str(int(row[5])+int(row_old[5]))\n",
    "        else:\n",
    "            row[5] = str(int(row[5])+int(row_old[5]))\n",
    "            row[1:3] = row_old[1:3]\n",
    "            row[4] = row_old[4]\n",
    "        del data_aggegated_by_umi_similarity[-1]\n",
    "    data_aggegated_by_umi_similarity.append(row)\n",
    "    row_old = row"
   ]
  },
  {
   "cell_type": "code",
   "execution_count": 246,
   "metadata": {
    "collapsed": false
   },
   "outputs": [],
   "source": [
    "thefile = open(filename+'_grouped', 'w') \n",
    "for item in data_aggegated_by_umi_similarity:\n",
    "  print>>thefile, item"
   ]
  },
  {
   "cell_type": "markdown",
   "metadata": {},
   "source": [
    "Then execute the oneliner:\n",
    "\n",
    "cat filename_aux | tr -d \",\" | tr -d \"'\" | tr -d \"[\" | tr -d \"]\" | tr \" \" \"\\t\" > filename_grouped"
   ]
  }
 ],
 "metadata": {
  "kernelspec": {
   "display_name": "Python 2",
   "language": "python",
   "name": "python2"
  },
  "language_info": {
   "codemirror_mode": {
    "name": "ipython",
    "version": 2
   },
   "file_extension": ".py",
   "mimetype": "text/x-python",
   "name": "python",
   "nbconvert_exporter": "python",
   "pygments_lexer": "ipython2",
   "version": "2.7.10"
  }
 },
 "nbformat": 4,
 "nbformat_minor": 0
}
