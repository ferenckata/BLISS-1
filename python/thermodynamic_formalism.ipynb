{
 "cells": [
  {
   "cell_type": "markdown",
   "metadata": {},
   "source": [
    "# Thermodynamic formalism for breakome"
   ]
  },
  {
   "cell_type": "markdown",
   "metadata": {},
   "source": [
    "For consistency with literature notation, cut points are assumed to be geneated by some discrete dynamics system $x_{n+1}=T(x_n)$ (but this assumption might not be necessary), and some phase space observable $u(x_n)=$umi number at $x_n$.\n",
    "\n",
    "We consider local averages $U_n(x)=\\Sigma_{k=0}^{n-1}\\frac{u\\left(x_k\\right)}{n}$, and study their characteristic function\n",
    "$$\n",
    "\\Phi(q) = \\lim_{n\\rightarrow \\infty} \\frac{1}{n} ln \\langle \\exp\\left(qnU_n(x)\\right) \\rangle,\n",
    "$$\n",
    "\n",
    "where $\\langle \\cdot \\rangle$ denotes the ensemble average, which is assumed to be equivalent (or at least well approximated by) the large space\\time average (self-averaging):\n",
    "$$\n",
    "\\langle g(x) \\rangle = \\lim_{N\\rightarrow \\infty} \\frac{1}{N} \\Sigma_{k=0}^{N-1} g\\left(x_k\\right).\n",
    "$$"
   ]
  },
  {
   "cell_type": "code",
   "execution_count": 43,
   "metadata": {
    "collapsed": false
   },
   "outputs": [],
   "source": [
    "import pandas as pd\n",
    "import numpy as np\n",
    "import math\n",
    "import scipy.sparse as sparse\n",
    "import pickle\n",
    "import scipy.io\n",
    "import subprocess\n",
    "#################################################\n",
    "def phi(q,n,uu):\n",
    "    phi = q*n*uu\n",
    "    phi = phi.expm1()+np.ones(phi.shape)\n",
    "    phi = phi.mean()\n",
    "    phi = np.log(phi)/n\n",
    "    return phi\n",
    "\n",
    "def expandlist(i,n):\n",
    "    ii = list(i)\n",
    "    for point in i:\n",
    "        ii.extend(range(point-n, point))\n",
    "    ii = list(set(ii))\n",
    "    ii.sort()\n",
    "    return ii\n",
    "#################################################\n",
    "n = 100\n",
    "numproc = 8\n",
    "#################################################\n",
    "filename = 'chr.loc.uminumb'\n",
    "data = pd.read_csv(filename, sep=' ',header=None, index_col=False)\n",
    "#################################################\n",
    "chromosomes = ['chr1','chr2','chr3','chr4','chr5','chr6','chr7','chr8',\n",
    "               'chr9','chr10','chr11','chr12','chr13','chr14','chr15',\n",
    "               'chr16','chr17','chr18','chr19','chr20','chr21','chr22',\n",
    "               'chrX','chrY']\n",
    "\n",
    "chr_size={\"chr1\":249250621,\"chr2\":243199373,\"chr3\":198022430,\"chr4\":191154276,\"chr5\":180915260,\"chr6\":171115067,\n",
    "          \"chr7\":159138663,\"chr8\":146364022,\"chr9\":141213431,\"chr10\":135534747,\"chr11\":135006516,\n",
    "          \"chr12\":133851895,\"chr13\":115169878,\"chr14\":107349540,\"chr15\":102531392,\"chr16\":90354753,\n",
    "          \"chr17\":81195210,\"chr18\":78077248,\"chr19\":59128983,\"chr20\":63025520,\"chr21\":48129895,\n",
    "          \"chr22\":51304566,\"chrX\":155270560,\"chrY\":59373566}\n",
    "#################################################\n",
    "if data.shape[1]==3:\n",
    "    data.columns = ['CHR','LOC','UMI']\n",
    "\n",
    "chromosome = \"chr1\"\n",
    "chrdata = data[data.CHR == chromosome]\n",
    "#################################################\n",
    "i = chrdata['LOC'].tolist()\n",
    "j = [0]*(len(i))\n",
    "uu = chrdata['UMI'].tolist()\n",
    "M = chr_size['chr1']\n",
    "N = 1\n",
    "\n",
    "u = sparse.csr_matrix((uu,(i,j)),shape=(M,N))\n",
    "\n",
    "ii = expandlist(i,n)\n",
    "\n",
    "sub_ii = [ii[i::numproc] for i in range(numproc)]\n",
    "\n",
    "ind = 1\n",
    "for seq in sub_ii:\n",
    "    name = 'seq_' + str(ind) \n",
    "    outfile = open(name, \"w\")\n",
    "    pickle.dump(seq, outfile)\n",
    "    outfile.close()\n",
    "    ind = ind+1\n",
    "#################################################\n",
    "scipy.io.mmwrite('u_vector',u)\n",
    "    \n",
    "outfile = open('numproc_file', \"w\")\n",
    "pickle.dump(numproc, outfile)\n",
    "outfile.close()\n",
    "\n",
    "outfile = open('n_file', \"w\")\n",
    "pickle.dump(n, outfile)\n",
    "outfile.close()\n",
    "#################################################\n",
    "print \"Start parallel execution..\"\n",
    "subprocess.call(\"./parallel_script.sh\")\n",
    "print \"Done\"\n",
    "#################################################\n",
    "lista = []\n",
    "for ind in range(1,numproc+1):\n",
    "    infile = open('out_seq_'+str(ind), \"r\")\n",
    "    lista.extend(pickle.load(infile))\n",
    "\n",
    "df = pd.DataFrame(lista)\n",
    "df = df.sort(columns=0)\n",
    "\n",
    "df.columns = ['LOC','U']\n",
    "x = df['LOC'].tolist()\n",
    "y = [0]*(len(x))\n",
    "uu = df['U'].tolist()\n",
    "M = chr_size[chromosome]\n",
    "N = 1\n",
    "\n",
    "uu_sparse = sparse.csr_matrix((uu,(x,y)),shape=(M,N))\n",
    "#################################################\n",
    "q = -0.2\n",
    "phi(q,n,uu_sparse)"
   ]
  },
  {
   "cell_type": "markdown",
   "metadata": {},
   "source": [
    "The bottleneck is in the evaluation of u(x,n) for all x's.\n",
    "I need to create a new sparse vector, which has non-zero entries in all left half-balls of radius n centered in x. \n",
    "For those locations I need to evalute the interval average. \n",
    "This takes approx 0.5 sec per 1000 points.\n",
    "If n, the window size, is 10000 then we have to evaluate 20M points...meaning 20K secs...\n",
    "I need to parallelize the evaluation of U(x,n,u) over x. Using 32 processors it should be possible to run it in 600 secs."
   ]
  },
  {
   "cell_type": "markdown",
   "metadata": {},
   "source": [
    "expandlist() expand the input list i to include windows of size n, to the left, which will become non-zero values for the n-local fields evaluated as n-local averages."
   ]
  },
  {
   "cell_type": "markdown",
   "metadata": {
    "collapsed": false
   },
   "source": [
    "In order to evaluate the fiels U(x,n,u) at all x, one first set a sparse 0 vector U(). The non-zero entries will be obtained by evaluating U at the points in ii. ii is still too large, so one can parallelize the calculation dividing ii into the max number of processors available. "
   ]
  },
  {
   "cell_type": "markdown",
   "metadata": {},
   "source": [
    "You need to store u locally, as well as numbproc and n."
   ]
  },
  {
   "cell_type": "markdown",
   "metadata": {},
   "source": [
    "When this is done you need to call the parallel_script.sh, which distributed local_field.py over the n processors."
   ]
  },
  {
   "cell_type": "markdown",
   "metadata": {},
   "source": [
    "The output files are stored locally in files named out\\_seq\\_[1...numproc]. \n",
    "They have to be loaded, merged and sorted according to their x coordinate."
   ]
  },
  {
   "cell_type": "markdown",
   "metadata": {},
   "source": [
    "Then convert the local field's values to a sparse vector "
   ]
  },
  {
   "cell_type": "markdown",
   "metadata": {},
   "source": [
    "Now you need to evaluate the average [exp(q*n*uu_sparse(x))]\\_x; which is a sparse array of ones and other non-one values. After constructing this sparse vector you have to average it, and take the logarithm of the outcome in order to have the characteristic function:\n",
    "$$\n",
    "\\Phi(q) = \\lim_{n\\rightarrow \\infty} \\frac{1}{n} ln \\langle \\exp\\left(qnU_n(x)\\right) \\rangle_x,\n",
    "$$\n"
   ]
  },
  {
   "cell_type": "markdown",
   "metadata": {},
   "source": [
    "You need to plot phi(q,n,u) as a function of n, and find the n for which phi does not change anymore. In this regime, for n sufficiently large, you can infer properties of phi which do not depend on finite size effect. "
   ]
  }
 ],
 "metadata": {
  "kernelspec": {
   "display_name": "Python 2",
   "language": "python",
   "name": "python2"
  },
  "language_info": {
   "codemirror_mode": {
    "name": "ipython",
    "version": 2
   },
   "file_extension": ".py",
   "mimetype": "text/x-python",
   "name": "python",
   "nbconvert_exporter": "python",
   "pygments_lexer": "ipython2",
   "version": "2.7.10"
  }
 },
 "nbformat": 4,
 "nbformat_minor": 0
}
