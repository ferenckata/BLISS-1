{
 "cells": [
  {
   "cell_type": "markdown",
   "metadata": {},
   "source": [
    "First run:\n",
    "~/Work/pipelines/aux.scripts/coverage.sh -resolution -experiment/outdata/q10_chr-loc-strand-umi-pcr -hg19 -sliding\n"
   ]
  },
  {
   "cell_type": "code",
   "execution_count": 65,
   "metadata": {
    "collapsed": false
   },
   "outputs": [
    {
     "name": "stdout",
     "output_type": "stream",
     "text": [
      "with UMI\n",
      "with UMI\n"
     ]
    }
   ],
   "source": [
    "import os\n",
    "import numpy as np\n",
    "from scipy import *\n",
    "from scipy.sparse import *\n",
    "from scipy.spatial import distance\n",
    "from scipy.stats import entropy\n",
    "import pandas as pd\n",
    "from fancyimpute import BiScaler, KNN, NuclearNormMinimization, SoftImpute\n",
    "import matplotlib.pyplot as plt\n",
    "import seaborn as sns\n",
    "\n",
    "def sparseload(file,resolution):\n",
    "    f = open(file)\n",
    "    h = f.readline()\n",
    "    col = []\n",
    "    data = []\n",
    "    chrom = []\n",
    "    for l in f:\n",
    "        l = l.strip()\n",
    "        chrom.append(l.split('\\t')[0])\n",
    "        col.append(int(l.split('\\t')[2])/resolution)\n",
    "        data.append(int(float(l.split('\\t')[3])))\n",
    "    col = np.array(col)\n",
    "    data = np.array(data)\n",
    "    chrom = np.array(chrom)\n",
    "    f.close()\n",
    "    return chrom,col,data\n",
    "\n",
    "def structure_genome(resolution,f):\n",
    "    base = 0\n",
    "    positionlist = []\n",
    "    chromlist = []\n",
    "    border = []\n",
    "    for l in f.readlines():\n",
    "        l = l.strip()\n",
    "        chrom = l.split('\\t')[0]\n",
    "        size = l.split('\\t')[1]\n",
    "        end = base + int(size)/resolution\n",
    "        border.append(end)\n",
    "        array = arange(base, end)\n",
    "        positionlist.extend(array)\n",
    "        chromlist.extend([chrom]*len(array))\n",
    "        base = base + int(size)/resolution\n",
    "    f.close()\n",
    "    return positionlist,chromlist,border\n",
    "\n",
    "def load_data(experiment,positionlist,resolution,sliding,umi):\n",
    "    if umi == 'w':\n",
    "        print 'with UMI'\n",
    "        filename = '/home/garner1/Work/dataset/'+str(experiment)+'/outdata/q10_chr-loc-strand-umi-coverage-'+str(resolution)+'_'+str(sliding)+'.bed'\n",
    "    if umi == 'wo':\n",
    "        print 'without UMI'\n",
    "        filename = '/home/garner1/Work/dataset/'+str(experiment)+'/outdata/q10_chr-loc-strand-umi-coverage-'+str(resolution)+'_'+str(sliding)+'.bed'\n",
    "    chrom, col, data = sparseload(filename,resolution)\n",
    "    return data\n",
    "\n",
    "resolution = 1*1000000\n",
    "sliding = 750*1000\n",
    "RC_threshold = 0\n",
    "FC_thr = 5\n",
    "umi = 'w' # can be {'w','wo'}\n",
    "f = open('/home/garner1/Work/pipelines/data/hg19-chr-sizes.txt')\n",
    "# f = open('/home/garner1/Work/pipelines/data/mm9-chr-sizes.txt')\n",
    "\n",
    "positionlist,chromlist,border = structure_genome(resolution,f)\n",
    "exp1 = 'rm53NT'\n",
    "X1 = load_data(exp1,positionlist,resolution,sliding,umi)\n",
    "exp2 = 'rm53T'\n",
    "X2 = load_data(exp2,positionlist,resolution,sliding,umi)\n",
    "X1_df = pd.Series(X1)\n",
    "X2_df = pd.Series(X2)\n",
    "df = pd.concat([X1_df,X2_df],axis=1)\n",
    "df = df[np.abs(df-df.mean())<=(10*df.std())]\n",
    "df = df / df.sum(axis=0) \n",
    "data = np.asarray(df)"
   ]
  },
  {
   "cell_type": "code",
   "execution_count": 69,
   "metadata": {
    "collapsed": false
   },
   "outputs": [
    {
     "name": "stdout",
     "output_type": "stream",
     "text": [
      "with UMI\n",
      "/home/garner1/Work/dataset/rm53T/outdata/q10_chr-loc-strand-umi-coverage-1000000_750000.bed\n"
     ]
    }
   ],
   "source": [
    "import linecache\n",
    "if umi == 'w':\n",
    "    print 'with UMI'\n",
    "    filename = '/home/garner1/Work/dataset/rm53T/outdata/q10_chr-loc-strand-umi-coverage-'+str(resolution)+'_'+str(sliding)+'.bed'\n",
    "    print filename\n",
    "    with open(\"enriched\"+str(exp1)+\"_wUMI.bed\", \"a\") as myfile:\n",
    "        foldChange = data[:,1]/data[:,0]\n",
    "        foldChange[ ~ np.isfinite( foldChange )] = 0 \n",
    "        for line in np.where(np.logical_and(foldChange>=FC_thr, foldChange<=1000))[0]:\n",
    "            myfile.write(''+ linecache.getline(filename,line) + '')\n",
    "    with open(\"enriched\"+str(exp2)+\"_wUMI.bed\", \"a\") as myfile:\n",
    "        foldChange = data[:,0]/data[:,1]\n",
    "        foldChange[ ~ np.isfinite( foldChange )] = 0 \n",
    "        for line in np.where(np.logical_and(foldChange>=FC_thr, foldChange<=1000))[0]:\n",
    "            myfile.write(''+ linecache.getline(filename,line) + '')\n",
    "    with open(\"non_enriched\"+str(exp1)+\"_wUMI.bed\", \"a\") as myfile:\n",
    "        foldChange = data[:,1]/data[:,0]\n",
    "        foldChange[ ~ np.isfinite( foldChange )] = 0 \n",
    "        for line in np.where(np.logical_and(foldChange>=0, foldChange<FC_thr))[0]:\n",
    "            myfile.write(''+ linecache.getline(filename,line) + '')\n",
    "    with open(\"non_enriched\"+str(exp2)+\"_wUMI.bed\", \"a\") as myfile:\n",
    "        foldChange = data[:,0]/data[:,1]\n",
    "        foldChange[ ~ np.isfinite( foldChange )] = 0 \n",
    "        for line in np.where(np.logical_and(foldChange>=0, foldChange<FC_thr))[0]:\n",
    "            myfile.write(''+ linecache.getline(filename,line) + '')\n",
    "if umi == 'wo':\n",
    "    print 'wo UMI'\n",
    "    filename = '/home/garner1/Work/dataset/rm53T/outdata/q10_chr-loc-strand-coverage-'+str(resolution)+'_'+str(sliding)+'.bed'\n",
    "    print filename\n",
    "    with open(\"enriched\"+str(exp1)+\"_woUMI.bed\", \"a\") as myfile:\n",
    "        foldChange = data[:,1]/data[:,0]\n",
    "        foldChange[ ~ np.isfinite( foldChange )] = 0 \n",
    "        for line in np.where(np.logical_and(foldChange>=FC_thr, foldChange<=1000))[0]:\n",
    "            myfile.write(''+ linecache.getline(filename,line) + '')\n",
    "    with open(\"enriched\"+str(exp2)+\"_woUMI.bed\", \"a\") as myfile:\n",
    "        foldChange = data[:,0]/data[:,1]\n",
    "        foldChange[ ~ np.isfinite( foldChange )] = 0 \n",
    "        for line in np.where(np.logical_and(foldChange>=FC_thr, foldChange<=1000))[0]:\n",
    "            myfile.write(''+ linecache.getline(filename,line) + '')\n",
    "    with open(\"non_enriched\"+str(exp1)+\"_woUMI.bed\", \"a\") as myfile:\n",
    "        foldChange = data[:,1]/data[:,0]\n",
    "        foldChange[ ~ np.isfinite( foldChange )] = 0 \n",
    "        for line in np.where(np.logical_and(foldChange>=0, foldChange<FC_thr))[0]:\n",
    "            myfile.write(''+ linecache.getline(filename,line) + '')\n",
    "    with open(\"non_enriched\"+str(exp2)+\"_woUMI.bed\", \"a\") as myfile:\n",
    "        foldChange = data[:,0]/data[:,1]\n",
    "        foldChange[ ~ np.isfinite( foldChange )] = 0 \n",
    "        for line in np.where(np.logical_and(foldChange>=0, foldChange<FC_thr))[0]:\n",
    "            myfile.write(''+ linecache.getline(filename,line) + '')\n",
    "    "
   ]
  },
  {
   "cell_type": "code",
   "execution_count": 67,
   "metadata": {
    "collapsed": false
   },
   "outputs": [],
   "source": [
    "# plt.figure(1)\n",
    "# plt.plot(data[:,1]/data[:,0],'o')\n",
    "# # axes = plt.gca()\n",
    "# # axes.set_ylim([-10,1])\n",
    "# plt.title('RM53 T vs NT fold changes at '+str(resolution)+'_slide'+str(sliding))\n",
    "# # plt.savefig('RM53_ToverNT_FC_res'+str(resolution)+'_slide'+str(sliding)+'.png')\n",
    "\n",
    "# plt.figure(2)\n",
    "# plt.plot(data[:,0]/data[:,1],'o')\n",
    "# # axes = plt.gca()\n",
    "# # axes.set_ylim([-10,1])\n",
    "# plt.title('RM53 NT vs T fold changes at '+str(resolution)+'_slide'+str(sliding))\n",
    "# # plt.savefig('RM53_NToverT_FC_res'+str(resolution)+'_slide'+str(sliding)+'.png')\n",
    "\n",
    "fig = plt.figure()\n",
    "ax1 = fig.add_subplot(111)\n",
    "\n",
    "ax1.plot(data[:,0]/data[:,1], c='r', label='NT/T')\n",
    "ax1.plot(data[:,1]/data[:,0], c='b', label='T/NT')\n",
    "plt.legend(loc='upper left');\n",
    "\n",
    "plt.show()"
   ]
  },
  {
   "cell_type": "code",
   "execution_count": 244,
   "metadata": {
    "collapsed": false
   },
   "outputs": [],
   "source": [
    "plt.figure(1)\n",
    "\n",
    "g1 = sns.heatmap(data, square=False, annot=False, cmap=\"Blues\", cbar=True)\n",
    "plt.title('RM53T vs RM53NT DSB probability heatmap at '+str(resolution))\n",
    "g1.set(yticklabels=[])\n",
    "\n",
    "plt.show()"
   ]
  }
 ],
 "metadata": {
  "kernelspec": {
   "display_name": "Python 2",
   "language": "python",
   "name": "python2"
  },
  "language_info": {
   "codemirror_mode": {
    "name": "ipython",
    "version": 2
   },
   "file_extension": ".py",
   "mimetype": "text/x-python",
   "name": "python",
   "nbconvert_exporter": "python",
   "pygments_lexer": "ipython2",
   "version": "2.7.11"
  }
 },
 "nbformat": 4,
 "nbformat_minor": 0
}
