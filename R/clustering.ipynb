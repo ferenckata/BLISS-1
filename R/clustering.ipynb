{
 "cells": [
  {
   "cell_type": "markdown",
   "metadata": {},
   "source": [
    "# UNDERSTANDING BREAKOME"
   ]
  },
  {
   "cell_type": "markdown",
   "metadata": {},
   "source": [
    "Compare different clustering algorithms using the manhattan distance between points."
   ]
  },
  {
   "cell_type": "markdown",
   "metadata": {},
   "source": [
    "In statistics, single-linkage clustering is one of several methods of hierarchical clustering. It is based on grouping clusters in bottom-up fashion (agglomerative clustering), at each step combining two clusters that contain the closest pair of elements not yet belonging to the same cluster as each other.\n",
    "A drawback of this method is that it tends to produce long thin clusters in which nearby elements of the same cluster have small distances, but elements at opposite ends of a cluster may be much farther from each other than to elements of other clusters. This may lead to difficulties in defining classes that could usefully subdivide the data."
   ]
  },
  {
   "cell_type": "markdown",
   "metadata": {},
   "source": [
    "Complete-linkage clustering is one of several methods of agglomerative hierarchical clustering. At the beginning of the process, each element is in a cluster of its own. The clusters are then sequentially combined into larger clusters until all elements end up being in the same cluster. At each step, the two clusters separated by the shortest distance are combined. The definition of 'shortest distance' is what differentiates between the different agglomerative clustering methods. In complete-linkage clustering, the link between two clusters contains all element pairs, and the distance between clusters equals the distance between those two elements (one in each cluster) that are farthest away from each other. The shortest of these links that remains at any step causes the fusion of the two clusters whose elements are involved. The method is also known as farthest neighbour clustering. The result of the clustering can be visualized as a dendrogram, which shows the sequence of cluster fusion and the distance at which each fusion took place."
   ]
  },
  {
   "cell_type": "markdown",
   "metadata": {},
   "source": [
    "UPGMA (Unweighted Pair Group Method with Arithmetic Mean) is a simple agglomerative (bottom-up) hierarchical clustering method. It is one of the most popular methods in ecology for the classification of sampling units (such as vegetation plots) on the basis of their pairwise similarities in relevant descriptor variables (such as species composition).[1] In bioinformatics, UPGMA is used for the creation of phenetic trees (phenograms). In a phylogenetic context, UPGMA assumes a constant rate of evolution (molecular clock hypothesis), and is not a well-regarded method for inferring relationships unless this assumption has been tested and justified for the data set being used. UPGMA was initially designed for use in protein electrophoresis studies, but is currently most often used to produce guide trees for more sophisticated phylogenetic reconstruction algorithms.\n",
    "\n",
    "The UPGMA algorithm constructs a rooted tree (dendrogram) that reflects the structure present in a pairwise similarity matrix (or a dissimilarity matrix).\n",
    "\n",
    "At each step, the nearest two clusters are combined into a higher-level cluster. The distance between any two clusters A and B is taken to be the average of all distances between pairs of objects \"x\" in A and \"y\" in B, that is, the mean distance between elements of each cluster"
   ]
  },
  {
   "cell_type": "markdown",
   "metadata": {},
   "source": [
    "In statistics, Ward's method is a criterion applied in hierarchical cluster analysis. Ward's minimum variance method inaccurate, see talk is a special case of the objective function approach originally presented by Joe Ward. Ward suggested a general agglomerative hierarchical clustering procedure, where the criterion for choosing the pair of clusters to merge at each step is based on the optimal value of an objective function. This objective function could be \"any function that reflects the investigator's purpose.\" Many of the standard clustering procedures are contained in this very general class. To illustrate the procedure, Ward used the example where the objective function is the error sum of squares, and this example is known as Ward's method or more precisely Ward's minimum variance method."
   ]
  },
  {
   "cell_type": "code",
   "execution_count": null,
   "metadata": {
    "collapsed": false
   },
   "outputs": [],
   "source": [
    "umi_filter = 3\n",
    "method = \"complete\"\n",
    "chromosomes = c(\"chr1\",\"chr2\",\"chr3\",\"chr4\",\"chr5\",\"chr6\",\"chr7\",\"chr8\",\"chr9\",\n",
    "                \"chr10\",\"chr11\",\"chr12\",\"chr13\",\"chr14\",\"chr15\",\"chr16\",\"chr17\",\"chr18\",\"chr19\",\n",
    "                \"chr20\",\"chr21\",\"chr22\",\"chrX\",\"chrY\")\n",
    "\n",
    "file = '/home/garner1/Work/dataset/rm15/outdata/chr.loc.uminumb'\n",
    "f = read.table(file=file, sep = \" \", header = FALSE)\n",
    "\n",
    "ff = f[f$V3 > umi_filter,,]\n",
    "\n",
    "for (chr in chromosomes[1]) {\n",
    "    data = ff[ff$V1==chr, 2]\n",
    "  \n",
    "  # Ward Hierarchical Clustering\n",
    "    d <- dist(unique(data), method = \"manhattan\") # distance matrix\n",
    "    hc <- hclust(d, method = method) # single, average, ward.D2\n",
    "    hcd = as.dendrogram(hc)\n",
    "\n",
    "    plot(hcd, ylim = c(1,10000), leaflab = \"none\", main = \"RM15-chr1\") \n",
    "   # pdf(\"rm15_chr1.pdf\")\n",
    "  }\n",
    "\n",
    "file = '/home/garner1/Work/dataset/rm33/outdata/chr.loc.uminumb'\n",
    "f = read.table(file=file, sep = \" \", header = FALSE)\n",
    "\n",
    "ff = f[f$V3 > umi_filter,,]\n",
    "\n",
    "for (chr in chromosomes[1]) {\n",
    "    data = ff[ff$V1==chr, 2]\n",
    "  \n",
    "  # Ward Hierarchical Clustering\n",
    "    d <- dist(unique(data), method = \"manhattan\") # distance matrix\n",
    "    hc <- hclust(d, method = method) # single, average, ward.D2\n",
    "    hcd = as.dendrogram(hc)\n",
    "\n",
    "    plot(hcd, ylim = c(1,10000), leaflab = \"none\", main = \"RM33-chr1\")\n",
    "   # pdf(\"rm33_chr1.pdf\")\n",
    "  }\n",
    "\n",
    "file = '/home/garner1/Work/dataset/rm34/outdata/chr.loc.uminumb'\n",
    "f = read.table(file=file, sep = \" \", header = FALSE)\n",
    "\n",
    "ff = f[f$V3 > umi_filter,,]\n",
    "\n",
    "for (chr in chromosomes[1]) {\n",
    "    data = ff[ff$V1==chr, 2]\n",
    "  \n",
    "  # Ward Hierarchical Clustering\n",
    "    d <- dist(unique(data), method = \"manhattan\") # distance matrix\n",
    "    hc <- hclust(d, method = method) # single, average, ward.D2\n",
    "    hcd = as.dendrogram(hc)\n",
    "\n",
    "    plot(hcd, ylim = c(1,10000), leaflab = \"none\", main = \"RM34-chr1\")\n",
    "   # pdf(\"rm34_chr1.pdf\")\n",
    "  }\n",
    "\n",
    "file = '/home/garner1/Work/dataset/rm35/outdata/chr.loc.uminumb'\n",
    "f = read.table(file=file, sep = \" \", header = FALSE)\n",
    "\n",
    "ff = f[f$V3 > umi_filter,,]\n",
    "\n",
    "for (chr in chromosomes[1]) {\n",
    "    data = ff[ff$V1==chr, 2]\n",
    "  \n",
    "  # Ward Hierarchical Clustering\n",
    "    d <- dist(unique(data), method = \"manhattan\") # distance matrix\n",
    "    hc <- hclust(d, method = method) # single, average, ward.D2\n",
    "    hcd = as.dendrogram(hc)\n",
    "\n",
    "    plot(hcd, ylim = c(1,10000), leaflab = \"none\", main = \"RM35-chr1\")\n",
    "   # pdf(\"rm35_chr1.pdf\")\n",
    "  }"
   ]
  },
  {
   "cell_type": "code",
   "execution_count": null,
   "metadata": {
    "collapsed": true
   },
   "outputs": [],
   "source": []
  }
 ],
 "metadata": {
  "kernelspec": {
   "display_name": "R",
   "language": "R",
   "name": "ir"
  },
  "language_info": {
   "codemirror_mode": "r",
   "file_extension": ".r",
   "mimetype": "text/x-r-source",
   "name": "R",
   "pygments_lexer": "r",
   "version": "3.2.2"
  }
 },
 "nbformat": 4,
 "nbformat_minor": 0
}
