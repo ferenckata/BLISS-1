{
 "cells": [
  {
   "cell_type": "markdown",
   "metadata": {},
   "source": [
    "# Simulate DSB occurrence on a population of cells"
   ]
  },
  {
   "cell_type": "code",
   "execution_count": 23,
   "metadata": {
    "collapsed": false
   },
   "outputs": [
    {
     "name": "stdout",
     "output_type": "stream",
     "text": [
      "37\n",
      "249536\n"
     ]
    },
    {
     "name": "stderr",
     "output_type": "stream",
     "text": [
      "/home/garner1/anaconda/lib/python2.7/site-packages/ipykernel/__main__.py:20: DeprecationWarning: using a non-integer number instead of an integer will result in an error in the future\n"
     ]
    }
   ],
   "source": [
    "import numpy as np\n",
    "import math\n",
    "from itertools import groupby\n",
    "import sys\n",
    "\n",
    "'''Parameters: cells number, average number of break per cell and its std, lenght of the genome'''\n",
    "cn = 5000\n",
    "gl = 1*10**9\n",
    "mu = 50\n",
    "sigma = 10\n",
    "\n",
    "'''Simulate first ensemble of cells'''\n",
    "# random.seed(sys.argv[1])\n",
    "DSB = []\n",
    "# Generate a list of random DSB counts per cell\n",
    "numbList = np.rint(sigma * np.random.randn(cn) + mu) \n",
    "for cell in range(cn):\n",
    "    numbDSB = numbList[cell]\n",
    "    if numbDSB < 0: print numbDSB\n",
    "    DSB.extend(np.random.randint(gl,size=numbDSB))\n",
    "\n",
    "'''Evaluate the entropy'''\n",
    "DSB.sort()\n",
    "repeats = np.asarray([len(list(group)) for key, group in groupby(DSB)])\n",
    "\n",
    "print len(repeats[repeats>1])\n",
    "print len(repeats)"
   ]
  }
 ],
 "metadata": {
  "kernelspec": {
   "display_name": "Python 2",
   "language": "python",
   "name": "python2"
  },
  "language_info": {
   "codemirror_mode": {
    "name": "ipython",
    "version": 2
   },
   "file_extension": ".py",
   "mimetype": "text/x-python",
   "name": "python",
   "nbconvert_exporter": "python",
   "pygments_lexer": "ipython2",
   "version": "2.7.11"
  }
 },
 "nbformat": 4,
 "nbformat_minor": 0
}
