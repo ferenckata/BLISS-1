{
 "cells": [
  {
   "cell_type": "markdown",
   "metadata": {},
   "source": [
    "# Kendal tau distance between dsb-ranked chromosomes"
   ]
  },
  {
   "cell_type": "code",
   "execution_count": 2,
   "metadata": {
    "collapsed": false
   },
   "outputs": [
    {
     "name": "stdout",
     "output_type": "stream",
     "text": [
      "rm31 0.666666666667 5.01856790741e-06\n",
      "rm32 0.63768115942 1.26788896773e-05\n",
      "rm34 0.652173913043 8.01464168099e-06\n",
      "rm35 0.673913043478 3.95717837778e-06\n",
      "rm50 0.63768115942 1.26788896773e-05\n",
      "rm51 0.63768115942 1.26788896773e-05\n"
     ]
    }
   ],
   "source": [
    "import scipy.stats as stats\n",
    "import numpy as np\n",
    "\n",
    "rm31 = np.loadtxt('rm31-rank',dtype='i')\n",
    "rm32 = np.loadtxt('rm32-rank',dtype='i')\n",
    "rm34 = np.loadtxt('rm34-rank',dtype='i')\n",
    "rm35 = np.loadtxt('rm35-rank',dtype='i')\n",
    "rm50 = np.loadtxt('rm50-rank',dtype='i')\n",
    "rm51 = np.loadtxt('rm51-rank',dtype='i')\n",
    "ref = np.loadtxt('ref-rank',dtype='i')\n",
    "\n",
    "list1 = [rm31,rm32,rm34,rm35,rm50,rm51]\n",
    "list2 = ['rm31','rm32','rm34','rm35','rm50','rm51']\n",
    "out = []\n",
    "\n",
    "import csv\n",
    "\n",
    "with open('kendall.csv', 'wb') as myfile:\n",
    "    wr = csv.writer(myfile)\n",
    "    for ii in range(len(list1)):\n",
    "        exp = list1[ii]\n",
    "        name = list2[ii]\n",
    "        tau, p_value = stats.kendalltau(exp, ref)\n",
    "        out.append([name, tau, p_value])\n",
    "        print name, tau, p_value\n",
    "        wr.writerow([name, tau, p_value])\n"
   ]
  },
  {
   "cell_type": "code",
   "execution_count": 15,
   "metadata": {
    "collapsed": true
   },
   "outputs": [],
   "source": [
    "?out"
   ]
  }
 ],
 "metadata": {
  "kernelspec": {
   "display_name": "Python 2",
   "language": "python",
   "name": "python2"
  },
  "language_info": {
   "codemirror_mode": {
    "name": "ipython",
    "version": 2
   },
   "file_extension": ".py",
   "mimetype": "text/x-python",
   "name": "python",
   "nbconvert_exporter": "python",
   "pygments_lexer": "ipython2",
   "version": "2.7.11"
  }
 },
 "nbformat": 4,
 "nbformat_minor": 0
}
