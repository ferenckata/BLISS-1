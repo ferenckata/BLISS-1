{
 "cells": [
  {
   "cell_type": "markdown",
   "metadata": {},
   "source": [
    "# Simulate DSB occurrence on a population of cells"
   ]
  },
  {
   "cell_type": "code",
   "execution_count": 124,
   "metadata": {
    "collapsed": false
   },
   "outputs": [
    {
     "name": "stdout",
     "output_type": "stream",
     "text": [
      "7.28658597927e-06\n",
      "9.56263897649e-05\n"
     ]
    },
    {
     "name": "stderr",
     "output_type": "stream",
     "text": [
      "/home/garner1/anaconda/lib/python2.7/site-packages/ipykernel/__main__.py:15: DeprecationWarning: using a non-integer number instead of an integer will result in an error in the future\n"
     ]
    }
   ],
   "source": [
    "import numpy as np\n",
    "import math\n",
    "from itertools import groupby\n",
    "import sys\n",
    "\n",
    "'''Parameters: cells number, average number of break per cell and its std, lenght of the genome'''\n",
    "cn = 5000\n",
    "gl = 1*10**9\n",
    "mu = 100\n",
    "sigma = 10\n",
    "\n",
    "'''Simulate first ensemble of cells'''\n",
    "# random.seed(sys.argv[1])\n",
    "DSB = []\n",
    "numbList = np.rint(sigma * np.random.randn(cn) + mu)\n",
    "for cell in range(cn):\n",
    "    numbDSB = numbList[cell]\n",
    "    DSB.extend(np.random.randint(gl,size=numbDSB))\n",
    "\n",
    "'''Evaluate the entropy'''\n",
    "DSB.sort()\n",
    "repeats = np.asarray([len(list(group)) for key, group in groupby(DSB)])\n",
    "probs = repeats*1.0/sum(repeats)\n",
    "ent = 0.0\n",
    "for i in probs:\n",
    "    ent -= i * math.log(i)\n",
    "\n",
    "print (math.log(len(probs))-ent)*1.0/math.log(len(probs))\n",
    "print math.log(len(probs))-ent"
   ]
  },
  {
   "cell_type": "code",
   "execution_count": 93,
   "metadata": {
    "collapsed": false
   },
   "outputs": [
    {
     "data": {
      "text/plain": [
       "array([ 1.00651241,  0.34614882, -0.54674859,  0.64116762,  0.88423548,\n",
       "       -0.77440541,  0.69945301, -0.48243195,  0.9689998 , -0.90424865])"
      ]
     },
     "execution_count": 93,
     "metadata": {},
     "output_type": "execute_result"
    }
   ],
   "source": [
    "np.random.randn(10)"
   ]
  }
 ],
 "metadata": {
  "kernelspec": {
   "display_name": "Python 2",
   "language": "python",
   "name": "python2"
  },
  "language_info": {
   "codemirror_mode": {
    "name": "ipython",
    "version": 2
   },
   "file_extension": ".py",
   "mimetype": "text/x-python",
   "name": "python",
   "nbconvert_exporter": "python",
   "pygments_lexer": "ipython2",
   "version": "2.7.11"
  }
 },
 "nbformat": 4,
 "nbformat_minor": 0
}
