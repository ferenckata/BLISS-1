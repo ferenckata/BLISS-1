{
 "cells": [
  {
   "cell_type": "markdown",
   "metadata": {},
   "source": [
    "# Correlations between genes' length and DSB locations' counts"
   ]
  },
  {
   "cell_type": "code",
   "execution_count": 93,
   "metadata": {
    "collapsed": true
   },
   "outputs": [],
   "source": [
    "import numpy as np\n",
    "import matplotlib.pyplot as plt\n",
    "\n",
    "'''data file:'''\n",
    "fname = \"gene_expr_dsb__BODY_perc10.bed\"\n",
    "\n",
    "import numpy as np\n",
    "d = np.loadtxt(fname, delimiter=\"\\t\")\n",
    "\n",
    "'''bin the lengths of genes'''\n",
    "bins = range(0,int(np.max(d[:,0])),100)\n",
    "inds = np.digitize(d[d[:,1]>0][:,0],bins)\n",
    "\n",
    "'''to each bin associate the dsb location count'''\n",
    "data = np.stack((inds,d[d[:,1]>0][:,1]), axis=1)\n",
    "\n",
    "'''boxplot of the dsb locations vs length (=bin)'''\n",
    "import seaborn as sns\n",
    "from matplotlib.ticker import *\n",
    "\n",
    "g = sns.boxplot(x=data[:,0],y=data[:,1])\n",
    "# g.set(ylim=(0,20))\n",
    "g.set_xticklabels(g.get_xticklabels(),rotation=90)\n",
    "plt.show()"
   ]
  },
  {
   "cell_type": "code",
   "execution_count": 61,
   "metadata": {
    "collapsed": false
   },
   "outputs": [],
   "source": [
    "import numpy as np\n",
    "import matplotlib.pyplot as plt\n",
    "\n",
    "'''data file:'''\n",
    "# fname = \"polII_peak_UMI2_norm\"\n",
    "# fname = \"ctcf_peak_UMI2_norm\"\n",
    "# fname = \"h3k27ac_peak_UMI2_norm\"\n",
    "# fname = \"h3k4me3_peak_UMI2_norm\"\n",
    "# fname = \"enhancer_UMI2_norm\"\n",
    "\n",
    "import numpy as np\n",
    "data = np.loadtxt(fname+'.dat', delimiter=\"\\t\")\n",
    "\n",
    "'''boxplot of the dsb locations vs length (=bin)'''\n",
    "import seaborn as sns\n",
    "from matplotlib.ticker import *\n",
    "\n",
    "g = sns.boxplot(data=data)\n",
    "g.set(ylim=(0,0.000001))\n",
    "g.set_xticklabels(g.get_xticklabels(),rotation=90)\n",
    "plt.show()"
   ]
  }
 ],
 "metadata": {
  "kernelspec": {
   "display_name": "Python 2",
   "language": "python",
   "name": "python2"
  },
  "language_info": {
   "codemirror_mode": {
    "name": "ipython",
    "version": 2
   },
   "file_extension": ".py",
   "mimetype": "text/x-python",
   "name": "python",
   "nbconvert_exporter": "python",
   "pygments_lexer": "ipython2",
   "version": "2.7.12"
  }
 },
 "nbformat": 4,
 "nbformat_minor": 0
}
